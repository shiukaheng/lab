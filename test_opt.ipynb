{
 "cells": [
  {
   "cell_type": "code",
   "execution_count": 1,
   "metadata": {},
   "outputs": [],
   "source": [
    "import numpy as np\n",
    "from scipy.optimize import fmin_bfgs"
   ]
  },
  {
   "cell_type": "code",
   "execution_count": 3,
   "metadata": {},
   "outputs": [],
   "source": [
    "def f(x): # x is shape of (2,2)\n",
    "    return np.sum(x**2)"
   ]
  },
  {
   "cell_type": "code",
   "execution_count": 6,
   "metadata": {},
   "outputs": [
    {
     "name": "stdout",
     "output_type": "stream",
     "text": [
      "[0.81560007 1.63120014 2.44680022 3.26240029]\n",
      "[0.40100432 0.80200798 1.2030123  1.60401662]\n",
      "[-4.35522731e-07  5.28974349e-07  9.34516171e-08 -2.24815861e-07]\n",
      "Optimization terminated successfully.\n",
      "         Current function value: 0.000000\n",
      "         Iterations: 3\n",
      "         Function evaluations: 20\n",
      "         Gradient evaluations: 4\n"
     ]
    }
   ],
   "source": [
    "init = np.array([[1,2],[3,4]])\n",
    "xopt = fmin_bfgs(f, init, disp=True, callback=lambda x: print(x))"
   ]
  },
  {
   "cell_type": "code",
   "execution_count": 5,
   "metadata": {},
   "outputs": [
    {
     "data": {
      "text/plain": [
       "array([-4.35522731e-07,  5.28974349e-07,  9.34516171e-08, -2.24815861e-07])"
      ]
     },
     "execution_count": 5,
     "metadata": {},
     "output_type": "execute_result"
    }
   ],
   "source": [
    "xopt"
   ]
  },
  {
   "cell_type": "code",
   "execution_count": 24,
   "metadata": {},
   "outputs": [],
   "source": [
    "n = np.array([\n",
    "    [1,2,3,4,5],\n",
    "    [4,5,6,7,8],\n",
    "    [7,8,9,10,11],\n",
    "    [10,11,12,13,14]\n",
    "])"
   ]
  },
  {
   "cell_type": "code",
   "execution_count": 45,
   "metadata": {},
   "outputs": [
    {
     "name": "stdout",
     "output_type": "stream",
     "text": [
      "(4, 5)\n"
     ]
    }
   ],
   "source": [
    "print(n.shape)"
   ]
  },
  {
   "cell_type": "code",
   "execution_count": 40,
   "metadata": {},
   "outputs": [],
   "source": [
    "\n",
    "def split_array(arr, exclude_cols):\n",
    "    # Splitting the array into columns that need optimization and those that don't\n",
    "    need_opt = np.delete(arr, exclude_cols, axis=1)\n",
    "    no_opt = arr[:, exclude_cols]\n",
    "    return need_opt, no_opt\n",
    "\n",
    "\n",
    "def merge_arrays(opt_arr, no_opt_arr, exclude_cols):\n",
    "    # Initialize an array of the same shape as the original\n",
    "    merged = np.empty((opt_arr.shape[0], opt_arr.shape[1] + no_opt_arr.shape[1]), dtype=opt_arr.dtype)\n",
    "\n",
    "    # Insert the non-optimized columns at their original positions\n",
    "    for col in exclude_cols:\n",
    "        merged[:, col] = no_opt_arr[:, exclude_cols.index(col)]\n",
    "\n",
    "    # Insert the optimized columns into the remaining positions\n",
    "    opt_idx = 0\n",
    "    for col in range(merged.shape[1]):\n",
    "        if col not in exclude_cols:\n",
    "            merged[:, col] = opt_arr[:, opt_idx]\n",
    "            opt_idx += 1\n",
    "\n",
    "    return merged\n"
   ]
  },
  {
   "cell_type": "code",
   "execution_count": 41,
   "metadata": {},
   "outputs": [],
   "source": [
    "a, b = split_array(n, [1,2])"
   ]
  },
  {
   "cell_type": "code",
   "execution_count": 42,
   "metadata": {},
   "outputs": [
    {
     "data": {
      "text/plain": [
       "array([[ 1,  2,  3,  4,  5],\n",
       "       [ 4,  5,  6,  7,  8],\n",
       "       [ 7,  8,  9, 10, 11],\n",
       "       [10, 11, 12, 13, 14]])"
      ]
     },
     "execution_count": 42,
     "metadata": {},
     "output_type": "execute_result"
    }
   ],
   "source": [
    "merge_arrays(a, b, [1,2])"
   ]
  },
  {
   "cell_type": "code",
   "execution_count": 44,
   "metadata": {},
   "outputs": [
    {
     "data": {
      "text/plain": [
       "array([[ 2,  3],\n",
       "       [ 5,  6],\n",
       "       [ 8,  9],\n",
       "       [11, 12]])"
      ]
     },
     "execution_count": 44,
     "metadata": {},
     "output_type": "execute_result"
    }
   ],
   "source": [
    "b"
   ]
  },
  {
   "cell_type": "code",
   "execution_count": null,
   "metadata": {},
   "outputs": [],
   "source": []
  }
 ],
 "metadata": {
  "kernelspec": {
   "display_name": "aro-tut",
   "language": "python",
   "name": "python3"
  },
  "language_info": {
   "codemirror_mode": {
    "name": "ipython",
    "version": 3
   },
   "file_extension": ".py",
   "mimetype": "text/x-python",
   "name": "python",
   "nbconvert_exporter": "python",
   "pygments_lexer": "ipython3",
   "version": "3.10.12"
  }
 },
 "nbformat": 4,
 "nbformat_minor": 2
}
