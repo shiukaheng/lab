{
 "cells": [
  {
   "cell_type": "code",
   "execution_count": 1,
   "metadata": {},
   "outputs": [],
   "source": [
    "from bezier import Bezier\n",
    "from piecewise_bezier import PiecewiseBezier\n",
    "import numpy as np"
   ]
  },
  {
   "cell_type": "code",
   "execution_count": 2,
   "metadata": {},
   "outputs": [
    {
     "name": "stderr",
     "output_type": "stream",
     "text": [
      "pybullet build time: Oct 14 2023 16:04:51\n"
     ]
    },
    {
     "name": "stdout",
     "output_type": "stream",
     "text": [
      "Wrapper tries to connect to server <tcp://127.0.0.1:6000>\n",
      "You can open the visualizer by visiting the following URL:\n",
      "http://127.0.0.1:7001/static/\n"
     ]
    }
   ],
   "source": [
    "from control import *\n",
    "from tools import setupwithmeshcat, setupwithpybulletandmeshcat, rununtil\n",
    "from config import DT\n",
    "\n",
    "# robot, sim, cube, viz = setupwithpybulletandmeshcat()\n",
    "robot, cube, viz = setupwithmeshcat()\n",
    "\n",
    "from config import CUBE_PLACEMENT, CUBE_PLACEMENT_TARGET    \n",
    "from inverse_geometry import computeqgrasppose\n",
    "from path import computepathwithcubepos, displaypath\n",
    "\n",
    "q0,successinit = computeqgrasppose(robot, robot.q0, cube, CUBE_PLACEMENT, None)\n",
    "qe,successend = computeqgrasppose(robot, robot.q0, cube, CUBE_PLACEMENT_TARGET,  None)\n",
    "path = computepathwithcubepos(q0, qe, CUBE_PLACEMENT, CUBE_PLACEMENT_TARGET, robot, cube, viz)\n",
    "cube_waypoints, pose_waypoints = zip(*path)\n",
    "\n",
    "# Create a trajectory\n",
    "trajs = create_trajectory(pose_waypoints, cube_waypoints, total_time=2, ramp_time=1, sampling_rate=int(1/DT))"
   ]
  },
  {
   "cell_type": "code",
   "execution_count": 3,
   "metadata": {},
   "outputs": [],
   "source": [
    "velocity_profile = create_linear_velocity_profile(3, 1, n_samples=1000)\n",
    "\n",
    "# Resample path according to velocity profile\n",
    "trajectory = resample_path(pose_waypoints, cube_waypoints, velocity_profile, 1, 1/DT)"
   ]
  },
  {
   "cell_type": "code",
   "execution_count": 4,
   "metadata": {},
   "outputs": [],
   "source": [
    "b = Bezier(trajectory, 0, 1)"
   ]
  },
  {
   "cell_type": "code",
   "execution_count": 5,
   "metadata": {},
   "outputs": [
    {
     "data": {
      "text/plain": [
       "array([-3.09756299e-02,  0.00000000e+00,  0.00000000e+00, -4.88081918e-01,\n",
       "       -3.06432635e-02, -6.64741388e-01, -2.87434908e-04,  6.94971857e-01,\n",
       "       -1.05203440e+00,  1.79092596e-01, -6.15534715e-02, -6.33154530e-01,\n",
       "       -3.17834020e-04,  6.94211462e-01,  1.42397418e+00])"
      ]
     },
     "execution_count": 5,
     "metadata": {},
     "output_type": "execute_result"
    }
   ],
   "source": [
    "b(0.5)"
   ]
  }
 ],
 "metadata": {
  "kernelspec": {
   "display_name": "aro-tut",
   "language": "python",
   "name": "python3"
  },
  "language_info": {
   "codemirror_mode": {
    "name": "ipython",
    "version": 3
   },
   "file_extension": ".py",
   "mimetype": "text/x-python",
   "name": "python",
   "nbconvert_exporter": "python",
   "pygments_lexer": "ipython3",
   "version": "3.10.12"
  }
 },
 "nbformat": 4,
 "nbformat_minor": 2
}
