{
 "cells": [
  {
   "cell_type": "code",
   "execution_count": 1,
   "metadata": {},
   "outputs": [
    {
     "name": "stderr",
     "output_type": "stream",
     "text": [
      "pybullet build time: Oct 14 2023 15:43:53\n"
     ]
    }
   ],
   "source": [
    "from typing import Optional\n",
    "import pinocchio as pin\n",
    "import numpy as np\n",
    "from numpy.linalg import pinv\n",
    "\n",
    "from config import LEFT_HAND, RIGHT_HAND\n",
    "import time\n",
    "\n",
    "from rtt_star_ig import *\n",
    "from tools import setupwithmeshcat\n",
    "from config import CUBE_PLACEMENT, CUBE_PLACEMENT_TARGET\n",
    "from inverse_geometry import computeqgrasppose"
   ]
  },
  {
   "cell_type": "code",
   "execution_count": 2,
   "metadata": {},
   "outputs": [],
   "source": [
    "def computepath(qinit,qgoal,cubeplacementq0, cubeplacementqgoal, robot, cube, viz):\n",
    "    path = RTTStarImpl(\n",
    "        robot, cube, viz,\n",
    "        initial=cubeplacementq0.translation,\n",
    "        goal=cubeplacementqgoal.translation,\n",
    "        q_init=qinit,\n",
    "    ).solve(post_goal_iterations=0)\n",
    "    return path"
   ]
  },
  {
   "cell_type": "code",
   "execution_count": 3,
   "metadata": {},
   "outputs": [],
   "source": [
    "def displaypath(robot,path,dt,viz):\n",
    "    for q in path:\n",
    "        viz.display(q)\n",
    "        time.sleep(dt)"
   ]
  },
  {
   "cell_type": "code",
   "execution_count": 4,
   "metadata": {},
   "outputs": [
    {
     "name": "stdout",
     "output_type": "stream",
     "text": [
      "Wrapper tries to connect to server <tcp://127.0.0.1:6000>\n",
      "You can open the visualizer by visiting the following URL:\n",
      "http://127.0.0.1:7000/static/\n",
      "=====================================\n",
      "🦾 Starting RTT*\n",
      "Distance to goal: 0.41593268686170837\n",
      "Start: [ 0.33 -0.3   0.93], End: [ 0.33 -0.3   0.93]\n",
      "Distance to goal: 0.41593268686170837\n",
      "Start: [ 0.33 -0.3   0.93], End: [ 0.36397226 -0.32124594  1.12594514]\n",
      "Distance to goal: 0.41593268686170837\n",
      "Start: [ 0.33 -0.3   0.93], End: [ 0.39225633 -0.33773599  1.2204337 ]\n",
      "Distance to goal: 0.41593268686170837\n",
      "Start: [ 0.36397226 -0.32124594  1.12594514], End: [ 0.4069185  -0.2712165   1.05739171]\n",
      "Distance to goal: 0.40199817992869674\n",
      "Start: [ 0.36397226 -0.32124594  1.12594514], End: [ 0.44744119 -0.07839919  1.091734  ]\n",
      "Distance to goal: 0.2527900438882725\n",
      "Start: [ 0.36397226 -0.32124594  1.12594514], End: [ 0.41394939 -0.16628428  1.13882625]\n",
      "Distance to goal: 0.2527900438882725\n",
      "Start: [ 0.36397226 -0.32124594  1.12594514], End: [ 0.4785176  -0.24026097  1.22311363]\n",
      "Distance to goal: 0.2527900438882725\n",
      "Start: [ 0.41394939 -0.16628428  1.13882625], End: [0.40464504 0.08603588 1.02719875]\n",
      "Distance to goal: 0.10021702690655683\n",
      "Start: [0.40464504 0.08603588 1.02719875], End: [0.4  0.11 0.93]\n",
      "✅ Exploring search space: Path found!\n",
      "✅ Refining path: Done!\n",
      "=====================================\n"
     ]
    }
   ],
   "source": [
    "# Seed the random number generator\n",
    "np.random.seed(42)\n",
    "\n",
    "robot, cube, viz = setupwithmeshcat()\n",
    "\n",
    "q = robot.q0.copy()\n",
    "q0,successinit = computeqgrasppose(robot, q, cube, CUBE_PLACEMENT, viz)\n",
    "qe,successend = computeqgrasppose(robot, q, cube, CUBE_PLACEMENT_TARGET,  viz)\n",
    "\n",
    "if not(successinit and successend):\n",
    "    print (\"error: invalid initial or end configuration\")\n",
    "\n",
    "path = computepath(q0,qe,CUBE_PLACEMENT, CUBE_PLACEMENT_TARGET, robot, cube, viz)"
   ]
  },
  {
   "cell_type": "code",
   "execution_count": 5,
   "metadata": {},
   "outputs": [
    {
     "name": "stdout",
     "output_type": "stream",
     "text": [
      "[0. 0. 0. 0. 0. 0. 0. 0. 0. 0. 0. 0. 0. 0. 0.] [ 0.33 -0.3   0.93] False\n",
      "[-3.56286062e-01  0.00000000e+00  0.00000000e+00 -8.17593092e-01\n",
      " -4.82091575e-01 -3.21251561e-01 -2.83030404e-04  8.02872206e-01\n",
      " -3.97225265e-01 -2.01026642e-01 -7.18103473e-01  4.09163613e-02\n",
      " -2.88635466e-04  6.76666651e-01  2.12939694e+00] [ 0.36397226 -0.32124594  1.12594514] False\n",
      "[-2.09206763e-01  0.00000000e+00  0.00000000e+00 -5.65941154e-01\n",
      " -3.83702338e-01 -5.16142594e-01 -2.52317228e-04  8.99356525e-01\n",
      " -7.95955519e-01  3.46589943e-02 -5.43100634e-01 -2.82080965e-01\n",
      " -2.78077858e-04  8.24677563e-01  1.74664592e+00] [ 0.41394939 -0.16628428  1.13882625] False\n",
      "[ 1.34994596e-01  0.00000000e+00  0.00000000e+00 -1.82411993e-01\n",
      " -1.24238039e-01 -4.17344906e-01 -3.13648959e-04  5.41085167e-01\n",
      " -1.52372432e+00  4.46764682e-01  1.64761382e-02 -5.64787684e-01\n",
      " -3.21391782e-04  5.47837200e-01  9.90297788e-01] [0.40464504 0.08603588 1.02719875] False\n",
      "[ 1.18061229e-01  0.00000000e+00  0.00000000e+00 -9.16414075e-02\n",
      " -5.58178249e-03 -2.34089907e-01 -3.80455940e-04  2.39211342e-01\n",
      " -1.59763878e+00  5.37119927e-01  1.17347198e-01 -3.51831035e-01\n",
      " -3.70359319e-04  2.33989456e-01  9.16798477e-01] [0.4  0.11 0.93] False\n",
      "None [0.4  0.11 0.93] True\n"
     ]
    }
   ],
   "source": [
    "for f in path:\n",
    "    print(f.q, f.point, f.is_goal)"
   ]
  },
  {
   "cell_type": "code",
   "execution_count": 6,
   "metadata": {},
   "outputs": [],
   "source": [
    "\n",
    "displaypath(robot,[f.q for f in path],dt=1,viz=viz) #you ll probably want to lower dt"
   ]
  }
 ],
 "metadata": {
  "kernelspec": {
   "display_name": "arolab",
   "language": "python",
   "name": "python3"
  },
  "language_info": {
   "codemirror_mode": {
    "name": "ipython",
    "version": 3
   },
   "file_extension": ".py",
   "mimetype": "text/x-python",
   "name": "python",
   "nbconvert_exporter": "python",
   "pygments_lexer": "ipython3",
   "version": "3.10.13"
  }
 },
 "nbformat": 4,
 "nbformat_minor": 2
}
