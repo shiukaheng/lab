{
 "cells": [
  {
   "cell_type": "code",
   "execution_count": 1,
   "metadata": {},
   "outputs": [
    {
     "name": "stderr",
     "output_type": "stream",
     "text": [
      "pybullet build time: Oct 14 2023 15:43:53\n"
     ]
    }
   ],
   "source": [
    "from typing import Optional\n",
    "import pinocchio as pin\n",
    "import numpy as np\n",
    "from numpy.linalg import pinv\n",
    "\n",
    "from config import LEFT_HAND, RIGHT_HAND\n",
    "import time\n",
    "\n",
    "from rtt_star_ig import *\n",
    "from tools import setupwithmeshcat\n",
    "from config import CUBE_PLACEMENT, CUBE_PLACEMENT_TARGET\n",
    "from inverse_geometry import computeqgrasppose"
   ]
  },
  {
   "cell_type": "code",
   "execution_count": 2,
   "metadata": {},
   "outputs": [],
   "source": [
    "def computepath(qinit,qgoal,cubeplacementq0, cubeplacementqgoal, robot, cube, viz):\n",
    "    path = RTTStarImpl(\n",
    "        robot, cube, viz,\n",
    "        initial=cubeplacementq0.translation,\n",
    "        goal=cubeplacementqgoal.translation,\n",
    "        q_init=qinit,\n",
    "    ).solve(post_goal_iterations=0)\n",
    "    return path"
   ]
  },
  {
   "cell_type": "code",
   "execution_count": 3,
   "metadata": {},
   "outputs": [],
   "source": [
    "def displaypath(robot,path,dt,viz):\n",
    "    for q in path:\n",
    "        viz.display(q)\n",
    "        time.sleep(dt)"
   ]
  },
  {
   "cell_type": "code",
   "execution_count": 4,
   "metadata": {},
   "outputs": [
    {
     "name": "stdout",
     "output_type": "stream",
     "text": [
      "Wrapper tries to connect to server <tcp://127.0.0.1:6000>\n",
      "You can open the visualizer by visiting the following URL:\n",
      "http://127.0.0.1:7000/static/\n",
      "=====================================\n",
      "🦾 Starting RTT*\n",
      "Distance to goal: 0.41593268686170837\n",
      "Start: [ 0.33 -0.3   0.93], End: [ 0.33 -0.3   0.93]\n",
      "Distance to goal: 0.41593268686170837\n",
      "Start: [ 0.33 -0.3   0.93], End: [ 0.34749264 -0.28610794  0.97473274]\n",
      "Distance to goal: 0.4020690760339659\n",
      "Start: [ 0.33 -0.3   0.93], End: [ 0.48626304 -0.36711988  0.99175821]\n",
      "Distance to goal: 0.4020690760339659\n",
      "Start: [ 0.33 -0.3   0.93], End: [ 0.34749264 -0.28610794  0.97473274]\n",
      "Distance to goal: 0.4020690760339659\n",
      "Start: [ 0.33 -0.3   0.93], End: [ 0.34749264 -0.28610794  0.97473274]\n",
      "Distance to goal: 0.4020690760339659\n",
      "Start: [ 0.33 -0.3   0.93], End: [ 0.34749264 -0.28610794  0.97473274]\n",
      "Distance to goal: 0.4020690760339659\n",
      "Start: [ 0.33 -0.3   0.93], End: [ 0.34749264 -0.28610794  0.97473274]\n",
      "Distance to goal: 0.4020690760339659\n",
      "Start: [ 0.33 -0.3   0.93], End: [ 0.34749264 -0.28610794  0.97473274]\n",
      "Distance to goal: 0.4020690760339659\n",
      "Start: [ 0.33 -0.3   0.93], End: [ 0.34749264 -0.28610794  0.97473274]\n",
      "Distance to goal: 0.4020690760339659\n",
      "Start: [ 0.33 -0.3   0.93], End: [ 0.34749264 -0.28610794  0.97473274]\n",
      "Distance to goal: 0.4020690760339659\n",
      "Start: [ 0.33 -0.3   0.93], End: [ 0.34749264 -0.28610794  0.97473274]\n",
      "Distance to goal: 0.4020690760339659\n",
      "Start: [ 0.33 -0.3   0.93], End: [ 0.34749264 -0.28610794  0.97473274]\n",
      "Distance to goal: 0.4020690760339659\n",
      "Start: [ 0.33 -0.3   0.93], End: [ 0.47076997 -0.34258446  1.11358623]\n",
      "Distance to goal: 0.4020690760339659\n",
      "Start: [ 0.47076997 -0.34258446  1.11358623], End: [ 0.46867573 -0.21610078  1.19419325]\n",
      "Distance to goal: 0.4020690760339659\n",
      "Start: [ 0.47076997 -0.34258446  1.11358623], End: [ 0.42674201 -0.09155632  1.12662592]\n",
      "Distance to goal: 0.28284596130658896\n",
      "Start: [ 0.47076997 -0.34258446  1.11358623], End: [ 0.42664423 -0.06030797  1.16565836]\n",
      "Distance to goal: 0.28284596130658896\n",
      "Start: [ 0.47076997 -0.34258446  1.11358623], End: [ 0.42664423 -0.06030797  1.16565836]\n",
      "Distance to goal: 0.28284596130658896\n",
      "Start: [ 0.47076997 -0.34258446  1.11358623], End: [ 0.42031818 -0.24965947  1.11451211]\n",
      "Distance to goal: 0.28284596130658896\n",
      "Start: [ 0.42031818 -0.24965947  1.11451211], End: [ 0.41728739 -0.02029622  1.05710896]\n",
      "Distance to goal: 0.182845961306589\n",
      "Start: [ 0.42031818 -0.24965947  1.11451211], End: [ 0.41728739 -0.02029622  1.05710896]\n",
      "Distance to goal: 0.182845961306589\n",
      "Start: [ 0.42674201 -0.09155632  1.12662592], End: [0.44589344 0.17072032 1.10901636]\n",
      "Distance to goal: 0.182845961306589\n",
      "Start: [ 0.47076997 -0.34258446  1.11358623], End: [ 0.47851284 -0.338043    1.35241249]\n",
      "Distance to goal: 0.182845961306589\n",
      "Start: [ 0.42031818 -0.24965947  1.11451211], End: [ 0.41728739 -0.02029622  1.05710896]\n",
      "Distance to goal: 0.182845961306589\n",
      "Start: [ 0.42674201 -0.09155632  1.12662592], End: [0.45338857 0.06652749 1.05841704]\n",
      "Distance to goal: 0.14570907033343702\n",
      "Start: [ 0.47076997 -0.34258446  1.11358623], End: [ 0.47064293 -0.19132573  1.2129124 ]\n",
      "Distance to goal: 0.14570907033343702\n",
      "Start: [ 0.42674201 -0.09155632  1.12662592], End: [0.42900679 0.1001118  1.11176974]\n",
      "Distance to goal: 0.14570907033343702\n",
      "Start: [0.42900679 0.1001118  1.11176974], End: [0.44648514 0.28830898 1.03381768]\n",
      "Distance to goal: 0.14570907033343702\n",
      "Start: [ 0.42674201 -0.09155632  1.12662592], End: [0.42859861 0.08063811 1.1608196 ]\n",
      "Distance to goal: 0.14570907033343702\n",
      "Start: [0.42900679 0.1001118  1.11176974], End: [0.40681833 0.34194092 1.09357873]\n",
      "Distance to goal: 0.14570907033343702\n",
      "Start: [ 0.47076997 -0.34258446  1.11358623], End: [ 0.42664423 -0.06030797  1.16565836]\n",
      "Distance to goal: 0.14570907033343702\n",
      "Start: [ 0.47076997 -0.34258446  1.11358623], End: [ 0.4416666  -0.04989009  1.06445378]\n",
      "Distance to goal: 0.14570907033343702\n",
      "Start: [ 0.48626304 -0.36711988  0.99175821], End: [ 0.47534417 -0.16694428  1.09623129]\n",
      "Distance to goal: 0.14570907033343702\n",
      "Start: [ 0.34749264 -0.28610794  0.97473274], End: [ 0.45044026 -0.36781192  1.22081763]\n",
      "Distance to goal: 0.14570907033343702\n",
      "Start: [0.44648514 0.28830898 1.03381768], End: [0.44648514 0.28830898 1.03381768]\n",
      "Distance to goal: 0.14570907033343702\n",
      "Start: [0.45338857 0.06652749 1.05841704], End: [0.40602404 0.1272777  0.96877743]\n",
      "✅ Exploring search space: Path found!\n",
      "✅ Refining path: Done!\n",
      "=====================================\n"
     ]
    }
   ],
   "source": [
    "# Seed the random number generator\n",
    "np.random.seed(55)\n",
    "\n",
    "robot, cube, viz = setupwithmeshcat()\n",
    "\n",
    "q = robot.q0.copy()\n",
    "q0,successinit = computeqgrasppose(robot, q, cube, CUBE_PLACEMENT, viz)\n",
    "qe,successend = computeqgrasppose(robot, q, cube, CUBE_PLACEMENT_TARGET,  viz)\n",
    "\n",
    "if not(successinit and successend):\n",
    "    print (\"error: invalid initial or end configuration\")\n",
    "\n",
    "path = computepath(q0,qe,CUBE_PLACEMENT, CUBE_PLACEMENT_TARGET, robot, cube, viz)"
   ]
  },
  {
   "cell_type": "code",
   "execution_count": 5,
   "metadata": {},
   "outputs": [
    {
     "name": "stdout",
     "output_type": "stream",
     "text": [
      "[-3.50671888e-01  0.00000000e+00  0.00000000e+00 -8.91951306e-01\n",
      " -4.96012134e-03 -2.34459131e-01 -3.80432426e-04  2.38958131e-01\n",
      " -3.28560252e-01 -2.07241100e-01 -2.86992974e-01  7.82527895e-02\n",
      " -4.42145692e-04  2.08271739e-01  2.12989999e+00] [ 0.33 -0.3   0.93] False\n",
      "[-2.16579403e-01  0.00000000e+00  0.00000000e+00 -7.41091759e-01\n",
      " -7.80599911e-01  5.73070378e-01 -3.96766377e-04  2.07083517e-01\n",
      " -6.13532679e-01 -3.12886593e-01 -1.06759009e+00  1.03270773e+00\n",
      " -4.75465274e-04  3.44170144e-02  2.10138749e+00] [ 0.48626304 -0.36711988  0.99175821] False\n",
      "[-1.51999858e-01  0.00000000e+00  0.00000000e+00 -5.05458208e-01\n",
      " -4.77740613e-01 -2.12688028e-01 -2.55301431e-04  6.90035331e-01\n",
      " -9.13730205e-01 -4.36980035e-03 -6.06737253e-01 -2.53818773e-02\n",
      " -3.66804383e-04  6.31766900e-01  1.72855726e+00] [ 0.47534417 -0.16694428  1.09623129] False\n",
      "[ 1.18804321e-01  0.00000000e+00  0.00000000e+00 -2.11506142e-01\n",
      " -3.43260036e-01 -2.61765995e-01 -2.75549085e-04  6.04542029e-01\n",
      " -1.47845199e+00  3.32625065e-01 -2.28949199e-01 -4.04292257e-01\n",
      " -3.32855462e-04  6.32742458e-01  1.12066651e+00] [0.45338857 0.06652749 1.05841704] False\n",
      "[ 1.86726125e-01  0.00000000e+00  0.00000000e+00 -1.15547405e-01\n",
      " -1.19236027e-01 -2.34599025e-01 -2.98781839e-04  3.53364286e-01\n",
      " -1.64241930e+00  5.08338911e-01  7.44273912e-02 -4.31762775e-01\n",
      " -3.33046766e-04  3.56850371e-01  8.76966953e-01] [0.40602404 0.1272777  0.96877743] False\n",
      "None [0.4  0.11 0.93] True\n"
     ]
    }
   ],
   "source": [
    "for f in path:\n",
    "    print(f.q, f.point, f.is_goal)"
   ]
  },
  {
   "cell_type": "code",
   "execution_count": 6,
   "metadata": {},
   "outputs": [],
   "source": [
    "\n",
    "displaypath(robot,[f.q for f in path],dt=1,viz=viz) #you ll probably want to lower dt"
   ]
  }
 ],
 "metadata": {
  "kernelspec": {
   "display_name": "arolab",
   "language": "python",
   "name": "python3"
  },
  "language_info": {
   "codemirror_mode": {
    "name": "ipython",
    "version": 3
   },
   "file_extension": ".py",
   "mimetype": "text/x-python",
   "name": "python",
   "nbconvert_exporter": "python",
   "pygments_lexer": "ipython3",
   "version": "3.10.13"
  }
 },
 "nbformat": 4,
 "nbformat_minor": 2
}
