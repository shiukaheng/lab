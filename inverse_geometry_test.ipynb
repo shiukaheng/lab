{
 "cells": [
  {
   "cell_type": "code",
   "execution_count": 1,
   "metadata": {},
   "outputs": [
    {
     "name": "stderr",
     "output_type": "stream",
     "text": [
      "pybullet build time: Oct 14 2023 15:43:53\n"
     ]
    }
   ],
   "source": [
    "from inverse_geometry import *\n",
    "from tools import sort_collision_pairs_by_frequency"
   ]
  },
  {
   "cell_type": "code",
   "execution_count": 2,
   "metadata": {},
   "outputs": [
    {
     "name": "stdout",
     "output_type": "stream",
     "text": [
      "Wrapper tries to connect to server <tcp://127.0.0.1:6000>\n",
      "You can open the visualizer by visiting the following URL:\n",
      "http://127.0.0.1:7000/static/\n"
     ]
    }
   ],
   "source": [
    "from tools import setupwithmeshcat\n",
    "from setup_meshcat import updatevisuals\n",
    "robot, cube, viz = setupwithmeshcat()"
   ]
  },
  {
   "cell_type": "code",
   "execution_count": 3,
   "metadata": {},
   "outputs": [
    {
     "name": "stdout",
     "output_type": "stream",
     "text": [
      "Wrapper tries to connect to server <tcp://127.0.0.1:6000>\n",
      "You can open the visualizer by visiting the following URL:\n",
      "http://127.0.0.1:7000/static/\n",
      "Running 200 tests\n"
     ]
    },
    {
     "ename": "NameError",
     "evalue": "name 'cube' is not defined",
     "output_type": "error",
     "traceback": [
      "\u001b[0;31m---------------------------------------------------------------------------\u001b[0m",
      "\u001b[0;31mNameError\u001b[0m                                 Traceback (most recent call last)",
      "\u001b[1;32m/home/heng/Documents/GitHub/lab/inverse_geometry_test.ipynb Cell 3\u001b[0m line \u001b[0;36m1\n\u001b[0;32m----> <a href='vscode-notebook-cell:/home/heng/Documents/GitHub/lab/inverse_geometry_test.ipynb#W2sZmlsZQ%3D%3D?line=0'>1</a>\u001b[0m results \u001b[39m=\u001b[39m test_implementation(iters\u001b[39m=\u001b[39;49m\u001b[39m200\u001b[39;49m)\n",
      "File \u001b[0;32m~/Documents/GitHub/lab/inverse_geometry.py:105\u001b[0m, in \u001b[0;36mtest_implementation\u001b[0;34m(iters, seed)\u001b[0m\n\u001b[1;32m    103\u001b[0m \u001b[39mfor\u001b[39;00m i \u001b[39min\u001b[39;00m \u001b[39mrange\u001b[39m(iters):\n\u001b[1;32m    104\u001b[0m     cubetarget \u001b[39m=\u001b[39m generate_cube_pos()\n\u001b[0;32m--> 105\u001b[0m     res, success \u001b[39m=\u001b[39m computeqgrasppose(robot, q, cube, cubetarget)\n\u001b[1;32m    106\u001b[0m     col, joints, jlc, edc \u001b[39m=\u001b[39m evaluate_pose(robot, res, printEval\u001b[39m=\u001b[39m\u001b[39mFalse\u001b[39;00m)\n\u001b[1;32m    107\u001b[0m     colliding_pairs \u001b[39m=\u001b[39m get_colliding_pairs(robot, res)\n",
      "File \u001b[0;32m~/Documents/GitHub/lab/inverse_geometry.py:70\u001b[0m, in \u001b[0;36mcomputeqgrasppose\u001b[0;34m(robot, qcurrent, cube, cubetarget, viz)\u001b[0m\n\u001b[1;32m     66\u001b[0m res \u001b[39m=\u001b[39m fmin_slsqp(cost, qcurrent, callback\u001b[39m=\u001b[39mcallback, acc\u001b[39m=\u001b[39m\u001b[39m1e-6\u001b[39m, \u001b[39miter\u001b[39m\u001b[39m=\u001b[39m\u001b[39m100\u001b[39m, f_ieqcons\u001b[39m=\u001b[39mconstraint_ineq, iprint\u001b[39m=\u001b[39m\u001b[39m0\u001b[39m)\n\u001b[1;32m     67\u001b[0m \u001b[39m# res = fmin_bfgs(cost, qcurrent, callback=callback, disp=False)\u001b[39;00m\n\u001b[1;32m     68\u001b[0m \u001b[39m# q = res.x # The result of the optimization\u001b[39;00m\n\u001b[0;32m---> 70\u001b[0m col, joints, _, _ \u001b[39m=\u001b[39m evaluate_pose(robot, res, printEval\u001b[39m=\u001b[39;49m\u001b[39mFalse\u001b[39;49;00m)\n\u001b[1;32m     71\u001b[0m \u001b[39mreturn\u001b[39;00m res, \u001b[39mnot\u001b[39;00m (col \u001b[39mor\u001b[39;00m joints)\n",
      "File \u001b[0;32m~/Documents/GitHub/lab/inverse_geometry.py:88\u001b[0m, in \u001b[0;36mevaluate_pose\u001b[0;34m(robot, q, printEval)\u001b[0m\n\u001b[1;32m     86\u001b[0m     joint_limits_violated \u001b[39m=\u001b[39m \u001b[39mTrue\u001b[39;00m\n\u001b[1;32m     87\u001b[0m jlc \u001b[39m=\u001b[39m jointlimitscost(robot, q)\n\u001b[0;32m---> 88\u001b[0m edc \u001b[39m=\u001b[39m effector_distance_cost(robot, cube)\n\u001b[1;32m     89\u001b[0m \u001b[39mif\u001b[39;00m printEval:\n\u001b[1;32m     90\u001b[0m     \u001b[39mprint\u001b[39m(\u001b[39mf\u001b[39m\u001b[39m\"\u001b[39m\u001b[39mCollision: \u001b[39m\u001b[39m{\u001b[39;00mcollision_violated\u001b[39m}\u001b[39;00m\u001b[39m, Joint Limits: \u001b[39m\u001b[39m{\u001b[39;00mjoint_limits_violated\u001b[39m}\u001b[39;00m\u001b[39m, Joints Cost: \u001b[39m\u001b[39m{\u001b[39;00mjoints_limits_cost\u001b[39m}\u001b[39;00m\u001b[39m, Effector Distance Cost: \u001b[39m\u001b[39m{\u001b[39;00meffector_distance_cost\u001b[39m}\u001b[39;00m\u001b[39m\"\u001b[39m)\n",
      "\u001b[0;31mNameError\u001b[0m: name 'cube' is not defined"
     ]
    }
   ],
   "source": [
    "results = test_implementation(iters=50)"
   ]
  },
  {
   "cell_type": "code",
   "execution_count": null,
   "metadata": {},
   "outputs": [],
   "source": [
    "result_collisions = [result[4] for result in results]\n",
    "sorted_pairs = sort_collision_pairs_by_frequency(result_collisions)\n",
    "sorted_pairs"
   ]
  }
 ],
 "metadata": {
  "kernelspec": {
   "display_name": "arolab",
   "language": "python",
   "name": "python3"
  },
  "language_info": {
   "codemirror_mode": {
    "name": "ipython",
    "version": 3
   },
   "file_extension": ".py",
   "mimetype": "text/x-python",
   "name": "python",
   "nbconvert_exporter": "python",
   "pygments_lexer": "ipython3",
   "version": "3.10.13"
  }
 },
 "nbformat": 4,
 "nbformat_minor": 2
}
