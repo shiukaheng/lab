{
 "cells": [
  {
   "cell_type": "code",
   "execution_count": 1,
   "metadata": {},
   "outputs": [
    {
     "name": "stderr",
     "output_type": "stream",
     "text": [
      "pybullet build time: Oct 14 2023 16:04:51\n"
     ]
    },
    {
     "name": "stdout",
     "output_type": "stream",
     "text": [
      "Wrapper tries to connect to server <tcp://127.0.0.1:6000>\n",
      "You can open the visualizer by visiting the following URL:\n",
      "http://127.0.0.1:7001/static/\n",
      "🦾 Starting RTT*\n",
      "✅ Exploring search space: Path found!          \n",
      "✅ Local path optimization: Done! Path length reduced by: 6%            \n",
      "Wrapper tries to connect to server <tcp://127.0.0.1:6000>\n",
      "You can open the visualizer by visiting the following URL:\n",
      "http://127.0.0.1:7001/static/\n",
      "Version = 4.1 Metal - 83\n",
      "Vendor = Apple\n",
      "Renderer = Apple M1 Pro\n",
      "b3Printf: Selected demo: Physics Server\n",
      "startThreads creating 1 threads.\n",
      "starting thread 0\n",
      "started thread 0 \n",
      "MotionThreadFunc thread started\n",
      "b3Printf: b3Warning[examples/Importers/ImportURDFDemo/BulletUrdfImporter.cpp,126]:\n",
      "\n",
      "b3Printf: No inertial data for link, using mass=1, localinertiadiagonal = 1,1,1, identity local inertial frame\n",
      "b3Printf: b3Warning[examples/Importers/ImportURDFDemo/BulletUrdfImporter.cpp,126]:\n",
      "\n",
      "b3Printf: base_link\n",
      "[Simulation] Found 19 DOFs\n",
      "b3Printf: b3Warning[examples/Importers/ImportURDFDemo/BulletUrdfImporter.cpp,126]:\n",
      "\n",
      "b3Printf: No inertial data for link, using mass=1, localinertiadiagonal = 1,1,1, identity local inertial frame\n",
      "b3Printf: b3Warning[examples/Importers/ImportURDFDemo/BulletUrdfImporter.cpp,126]:\n",
      "\n",
      "b3Printf: LARM_EFF_Link\n",
      "b3Printf: b3Warning[examples/Importers/ImportURDFDemo/BulletUrdfImporter.cpp,126]:\n",
      "\n",
      "b3Printf: No inertial data for link, using mass=1, localinertiadiagonal = 1,1,1, identity local inertial frame\n",
      "b3Printf: b3Warning[examples/Importers/ImportURDFDemo/BulletUrdfImporter.cpp,126]:\n",
      "\n",
      "b3Printf: RARM_EFF_Link\n",
      "🧮 Starting trajectory optimization\n",
      "✅ Created initial trajectory\n",
      "b3Printf: b3Warning[examples/Importers/ImportURDFDemo/BulletUrdfImporter.cpp,126]:\n",
      "\n",
      "b3Printf: No inertial data for link, using mass=1, localinertiadiagonal = 1,1,1, identity local inertial frame\n",
      "b3Printf: b3Warning[examples/Importers/ImportURDFDemo/BulletUrdfImporter.cpp,126]:\n",
      "\n",
      "b3Printf: LARM_HOOK_Link\n",
      "b3Printf: b3Warning[examples/Importers/ImportURDFDemo/BulletUrdfImporter.cpp,126]:\n",
      "\n",
      "b3Printf: No inertial data for link, using mass=1, localinertiadiagonal = 1,1,1, identity local inertial frame\n",
      "b3Printf: b3Warning[examples/Importers/ImportURDFDemo/BulletUrdfImporter.cpp,126]:\n",
      "\n",
      "b3Printf: RARM_HOOK_Link\n",
      "Iteration limit reached    (Exit mode 9)20, cost: 13.196228935473233       \n",
      "            Current function value: 13.196228935473233\n",
      "            Iterations: 20\n",
      "            Function evaluations: 2159\n",
      "            Gradient evaluations: 20\n",
      "✅ Trajectory optimization: Done! Final cost: 13.196228935473233          \n"
     ]
    }
   ],
   "source": [
    "import time\n",
    "import numpy as np\n",
    "from setup_pybullet import Simulation\n",
    "from tools import getcubeplacement, setupwithmeshcat\n",
    "import pinocchio as pin\n",
    "\n",
    "from control_utils import *\n",
    "from trajectory_optimizer import TrajectoryOptimizer\n",
    "        \n",
    "from tools import setupwithpybulletandmeshcat, rununtil\n",
    "from config import DT\n",
    "\n",
    "robot, cube, viz = setupwithmeshcat()\n",
    "\n",
    "from config import CUBE_PLACEMENT, CUBE_PLACEMENT_TARGET    \n",
    "from inverse_geometry import computeqgrasppose\n",
    "from path import computepathwithcubepos, displaypath\n",
    "\n",
    "q0,successinit = computeqgrasppose(robot, robot.q0, cube, CUBE_PLACEMENT, None)\n",
    "qe,successend = computeqgrasppose(robot, robot.q0, cube, CUBE_PLACEMENT_TARGET,  None)\n",
    "path = computepathwithcubepos(q0, qe, CUBE_PLACEMENT, CUBE_PLACEMENT_TARGET, robot, cube, viz)\n",
    "cube_waypoints, pose_waypoints = zip(*path)\n",
    "\n",
    "robot, sim, cube, viz = setupwithpybulletandmeshcat()\n",
    "\n",
    "tcur = 0.\n",
    "total_time = 3.\n",
    "\n",
    "pq, pqn = create_optimized_bezier_trajectory_b(robot, cube, viz, pose_waypoints,\n",
    "                                            total_time=total_time, \n",
    "                                            ramp_time=0.5, \n",
    "                                            n_bezier_control_points=10, \n",
    "                                            n_bezier_cost_samples=50)\n",
    "\n",
    "   "
   ]
  },
  {
   "cell_type": "code",
   "execution_count": 7,
   "metadata": {},
   "outputs": [],
   "source": [
    "from trajectory_plots import trajectory_analysis\n",
    "\n",
    "\n",
    "def create_path_comparison_b(pose_waypoints, cube_waypoints, pqn, pq, total_time=3, ramp_time=0.5, evaluation_samples=1000):\n",
    "\n",
    "    # Linear trajectory\n",
    "    pql_eval = create_linear_trajectory(pose_waypoints, cube_waypoints, total_time=total_time, ramp_time=ramp_time, n_samples=evaluation_samples)\n",
    "\n",
    "    # Create an array of parameters to iterate through\n",
    "    t = np.linspace(0, 1, evaluation_samples)\n",
    "\n",
    "    pqn_eval = np.array([pqn(ti) for ti in t])\n",
    "\n",
    "    # Evaluate pq at each time step\n",
    "    pq_eval = np.array([pq(ti) for ti in t])\n",
    "\n",
    "    dt = total_time / evaluation_samples\n",
    "\n",
    "    q0 = pose_waypoints[0]\n",
    "\n",
    "    return {\n",
    "        \"linear\": trajectory_analysis(q0, pql_eval, dt),\n",
    "        \"naive_bezier\": trajectory_analysis(q0, pqn_eval, dt),\n",
    "        \"optimized_bezier\": trajectory_analysis(q0, pq_eval, dt)\n",
    "    }"
   ]
  },
  {
   "cell_type": "code",
   "execution_count": 8,
   "metadata": {},
   "outputs": [
    {
     "name": "stdout",
     "output_type": "stream",
     "text": [
      "Wrapper tries to connect to server <tcp://127.0.0.1:6000>\n",
      "You can open the visualizer by visiting the following URL:\n",
      "http://127.0.0.1:7001/static/\n",
      "Wrapper tries to connect to server <tcp://127.0.0.1:6000>\n",
      "You can open the visualizer by visiting the following URL:\n",
      "http://127.0.0.1:7001/static/\n",
      "Wrapper tries to connect to server <tcp://127.0.0.1:6000>\n",
      "You can open the visualizer by visiting the following URL:\n",
      "http://127.0.0.1:7001/static/\n"
     ]
    }
   ],
   "source": [
    "c = create_path_comparison_b(pose_waypoints, cube_waypoints, pqn, pq)"
   ]
  },
  {
   "cell_type": "code",
   "execution_count": 10,
   "metadata": {},
   "outputs": [],
   "source": [
    "import matplotlib.pyplot as plt\n",
    "from trajectory_plots import normalize"
   ]
  },
  {
   "cell_type": "code",
   "execution_count": 12,
   "metadata": {},
   "outputs": [
    {
     "data": {
      "image/png": "[encoded data removed]",
      "text/plain": [
       "<Figure size 640x480 with 1 Axes>"
      ]
     },
     "metadata": {},
     "output_type": "display_data"
    }
   ],
   "source": [
    "plt.plot(normalize(c[\"linear\"][\"cube_distance\"][2:]), c[\"linear\"][\"joint_acceleration\"][1:], label=\"linear\", color=\"red\")\n",
    "plt.plot(normalize(c[\"naive_bezier\"][\"cube_distance\"][2:]), c[\"naive_bezier\"][\"joint_acceleration\"][1:], label=\"naive_bezier\", color=\"green\")\n",
    "plt.plot(normalize(c[\"optimized_bezier\"][\"cube_distance\"][2:]), c[\"optimized_bezier\"][\"joint_acceleration\"][1:], label=\"optimized_bezier\", color=\"blue\")\n",
    "\n",
    "plt.show()"
   ]
  },
  {
   "cell_type": "code",
   "execution_count": null,
   "metadata": {},
   "outputs": [],
   "source": []
  }
 ],
 "metadata": {
  "kernelspec": {
   "display_name": "arolab",
   "language": "python",
   "name": "python3"
  },
  "language_info": {
   "codemirror_mode": {
    "name": "ipython",
    "version": 3
   },
   "file_extension": ".py",
   "mimetype": "text/x-python",
   "name": "python",
   "nbconvert_exporter": "python",
   "pygments_lexer": "ipython3",
   "version": "3.10.12"
  }
 },
 "nbformat": 4,
 "nbformat_minor": 2
}
