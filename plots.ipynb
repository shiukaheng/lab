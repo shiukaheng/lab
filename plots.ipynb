{
 "cells": [
  {
   "cell_type": "code",
   "execution_count": null,
   "metadata": {},
   "outputs": [],
   "source": [
    "import inverse_geometry\n",
    "import inverse_geometry_test\n",
    "import old_inverse_geometry\n",
    "from function_profiler import FunctionProfiler\n",
    "from tools import setupwithmeshcat"
   ]
  },
  {
   "cell_type": "code",
   "execution_count": null,
   "metadata": {},
   "outputs": [],
   "source": [
    "robot, cube, viz = setupwithmeshcat()"
   ]
  },
  {
   "cell_type": "markdown",
   "metadata": {},
   "source": [
    "# Inverse geometry performance evaluation"
   ]
  },
  {
   "cell_type": "code",
   "execution_count": null,
   "metadata": {},
   "outputs": [],
   "source": [
    "profiler = FunctionProfiler()"
   ]
  },
  {
   "cell_type": "code",
   "execution_count": null,
   "metadata": {},
   "outputs": [],
   "source": [
    "@profiler.profile(\"Solution A\")\n",
    "def computeqgrasppose_a(robot, qcurrent, cube, cubetarget, viz=None):\n",
    "    return inverse_geometry.computeqgrasppose(robot, qcurrent, cube, cubetarget, viz)\n",
    "\n",
    "@profiler.profile(\"Solution B\")\n",
    "def computeqgrasppose_b(robot, qcurrent, cube, cubetarget, viz=None):\n",
    "    return old_inverse_geometry.computeqgrasppose(robot, qcurrent, cube, cubetarget, viz)"
   ]
  },
  {
   "cell_type": "code",
   "execution_count": null,
   "metadata": {},
   "outputs": [],
   "source": [
    "# inverse_geometry_test.random_tests(robot, cube, viz, interactive=False, iters=10, computeqgrasppose=computeqgrasppose_a)\n",
    "# inverse_geometry_test.random_tests(robot, cube, viz, interactive=False, iters=10, computeqgrasppose=computeqgrasppose_b)"
   ]
  },
  {
   "cell_type": "code",
   "execution_count": null,
   "metadata": {},
   "outputs": [],
   "source": [
    "profiler.plot(\"Solution A\")"
   ]
  },
  {
   "cell_type": "code",
   "execution_count": null,
   "metadata": {},
   "outputs": [],
   "source": [
    "profiler.plot(\"Solution B\")"
   ]
  },
  {
   "cell_type": "markdown",
   "metadata": {},
   "source": [
    "# Motion planning performance evaluation"
   ]
  },
  {
   "cell_type": "code",
   "execution_count": null,
   "metadata": {},
   "outputs": [],
   "source": [
    "from path_plots import plot_path_2d"
   ]
  },
  {
   "cell_type": "code",
   "execution_count": null,
   "metadata": {},
   "outputs": [],
   "source": [
    "plot_path_2d(robot, cube, viz, max_neighbors=4, neighborhood_radius=0.6)"
   ]
  },
  {
   "cell_type": "code",
   "execution_count": null,
   "metadata": {},
   "outputs": [],
   "source": [
    "plot_path_2d(robot, cube, viz, neighborhood_radius=0.2, max_neighbors=1, color='red')"
   ]
  },
  {
   "cell_type": "markdown",
   "metadata": {},
   "source": [
    "# Trajectory optimization performance evaluation"
   ]
  },
  {
   "cell_type": "code",
   "execution_count": 21,
   "metadata": {},
   "outputs": [
    {
     "name": "stdout",
     "output_type": "stream",
     "text": [
      "Wrapper tries to connect to server <tcp://127.0.0.1:6000>\n",
      "You can open the visualizer by visiting the following URL:\n",
      "http://127.0.0.1:7001/static/\n",
      "Version = 4.1 Metal - 83\n",
      "Vendor = Apple\n",
      "Renderer = Apple M1 Pro\n",
      "b3Printf: Selected demo: Physics Server\n",
      "startThreads creating 1 threads.\n",
      "starting thread 0\n",
      "started thread 0 \n",
      "MotionThreadFunc thread started\n",
      "b3Printf: b3Warning[examples/Importers/ImportURDFDemo/BulletUrdfImporter.cpp,126]:\n",
      "\n",
      "b3Printf: No inertial data for link, using mass=1, localinertiadiagonal = 1,1,1, identity local inertial frame\n",
      "b3Printf: b3Warning[examples/Importers/ImportURDFDemo/BulletUrdfImporter.cpp,126]:\n",
      "\n",
      "b3Printf: base_link\n",
      "[Simulation] Found 19 DOFs\n",
      "b3Printf: b3Warning[examples/Importers/ImportURDFDemo/BulletUrdfImporter.cpp,126]:\n",
      "\n",
      "b3Printf: No inertial data for link, using mass=1, localinertiadiagonal = 1,1,1, identity local inertial frame\n",
      "b3Printf: b3Warning[examples/Importers/ImportURDFDemo/BulletUrdfImporter.cpp,126]:\n",
      "\n",
      "b3Printf: LARM_EFF_Link\n",
      "b3Printf: b3Warning[examples/Importers/ImportURDFDemo/BulletUrdfImporter.cpp,126]:\n",
      "\n",
      "b3Printf: No inertial data for link, using mass=1, localinertiadiagonal = 1,1,1, identity local inertial frame\n",
      "b3Printf: b3Warning[examples/Importers/ImportURDFDemo/BulletUrdfImporter.cpp,126]:\n",
      "\n",
      "b3Printf: RARM_EFF_Link\n",
      "b3Printf: b3Warning[examples/Importers/ImportURDFDemo/BulletUrdfImporter.cpp,126]:\n",
      "\n",
      "b3Printf: No inertial data for link, using mass=1, localinertiadiagonal = 1,1,1, identity local inertial frame\n",
      "b3Printf: b3Warning[examples/Importers/ImportURDFDemo/BulletUrdfImporter.cpp,126]:\n",
      "\n",
      "b3Printf: LARM_HOOK_Link\n",
      "b3Printf: b3Warning[examples/Importers/ImportURDFDemo/BulletUrdfImporter.cpp,126]:\n",
      "\n",
      "b3Printf: No inertial data for link, using mass=1, localinertiadiagonal = 1,1,1, identity local inertial frame\n",
      "b3Printf: b3Warning[examples/Importers/ImportURDFDemo/BulletUrdfImporter.cpp,126]:\n",
      "\n",
      "b3Printf: RARM_HOOK_Link\n"
     ]
    }
   ],
   "source": [
    "from trajectory_plots import *\n",
    "import seaborn as sns\n",
    "import matplotlib.pyplot as plt\n",
    "from tools import setupwithpybulletandmeshcat\n",
    "\n",
    "robot, sim, cube, viz = setupwithpybulletandmeshcat()"
   ]
  },
  {
   "cell_type": "code",
   "execution_count": 22,
   "metadata": {},
   "outputs": [
    {
     "name": "stdout",
     "output_type": "stream",
     "text": [
      "🦾 Starting RTT*\n",
      "🔗 Found better path to neighbor, reducing cost from 2.0084752073459864 to 1.8847981745774944\n",
      "🔗 Found better path to neighbor, reducing cost from 2.1525681472841196 to 2.0208439758247563\n",
      "🔗 Found better path to neighbor, reducing cost from 2.2154935038123975 to 2.08917221135525\n",
      "🔗 Found better path to neighbor, reducing cost from 2.0225403793617596 to 1.660296816938926\n",
      "🔗 Found better path to neighbor, reducing cost from 1.8847981745774944 to 1.7740673751215061\n",
      "🔗 Found better path to neighbor, reducing cost from 2.08917221135525 to 1.8184216197159275\n",
      "🔗 Found better path to neighbor, reducing cost from 2.0208439758247563 to 1.9959629627675142\n",
      "✅ Exploring search space: Path found!          \n",
      "✅ Local path optimization: Done! Path length reduced by: 3%            \n",
      "🧮 Starting trajectory optimization\n",
      "🧮 Starting trajectory optimization\n",
      "✅ Created initial trajectory\n",
      "✨ Trajectory optimization: Iteration 5/20, cost: 37706242.6134017         \r"
     ]
    },
    {
     "ename": "KeyboardInterrupt",
     "evalue": "",
     "output_type": "error",
     "traceback": [
      "\u001b[0;31m---------------------------------------------------------------------------\u001b[0m",
      "\u001b[0;31mKeyboardInterrupt\u001b[0m                         Traceback (most recent call last)",
      "\u001b[1;32m/Users/heng/Documents/lab/plots.ipynb Cell 15\u001b[0m line \u001b[0;36m1\n\u001b[0;32m----> <a href='vscode-notebook-cell:/Users/heng/Documents/lab/plots.ipynb#X51sZmlsZQ%3D%3D?line=0'>1</a>\u001b[0m comparison \u001b[39m=\u001b[39m create_path_comparison(robot, cube, viz)\n",
      "File \u001b[0;32m~/Documents/lab/trajectory_plots.py:98\u001b[0m, in \u001b[0;36mcreate_path_comparison\u001b[0;34m(robot, cube, viz, total_time, ramp_time, n_bezier_control_points, n_bezier_cost_samples, evaluation_samples)\u001b[0m\n\u001b[1;32m     95\u001b[0m pqnd_eval \u001b[39m=\u001b[39m np\u001b[39m.\u001b[39marray([pqnd(ti) \u001b[39mfor\u001b[39;00m ti \u001b[39min\u001b[39;00m t])\n\u001b[1;32m     97\u001b[0m \u001b[39m# Create the optimized trajectory\u001b[39;00m\n\u001b[0;32m---> 98\u001b[0m pqo, _, _ \u001b[39m=\u001b[39m create_optimized_bezier_trajectory(robot, cube, viz, pose_waypoints,\n\u001b[1;32m     99\u001b[0m                                            total_time,\n\u001b[1;32m    100\u001b[0m                                            ramp_time,\n\u001b[1;32m    101\u001b[0m                                            n_bezier_control_points,\n\u001b[1;32m    102\u001b[0m                                            n_bezier_cost_samples)\n\u001b[1;32m    104\u001b[0m \u001b[39m# Evaluate pq at each time step\u001b[39;00m\n\u001b[1;32m    105\u001b[0m pqo_eval \u001b[39m=\u001b[39m np\u001b[39m.\u001b[39marray([pqo(ti) \u001b[39mfor\u001b[39;00m ti \u001b[39min\u001b[39;00m t])\n",
      "File \u001b[0;32m~/Documents/lab/control_utils.py:122\u001b[0m, in \u001b[0;36mcreate_optimized_bezier_trajectory\u001b[0;34m(robot, cube, viz, pose_waypoints, total_time, ramp_time, n_bezier_control_points, n_bezier_cost_samples, n_bezier_samples)\u001b[0m\n\u001b[1;32m    120\u001b[0m \u001b[39mprint\u001b[39m(\u001b[39m\"\u001b[39m\u001b[39m✅ Created initial trajectory\u001b[39m\u001b[39m\"\u001b[39m)\n\u001b[1;32m    121\u001b[0m opt \u001b[39m=\u001b[39m TrajectoryOptimizer(robot, cube, viz, evaluation_points\u001b[39m=\u001b[39mn_bezier_cost_samples)\n\u001b[0;32m--> 122\u001b[0m opt_pose_waypoints \u001b[39m=\u001b[39m opt\u001b[39m.\u001b[39;49moptimize(ref_lin_traj)\n\u001b[1;32m    123\u001b[0m pq \u001b[39m=\u001b[39m Bezier(opt_pose_waypoints, t_max\u001b[39m=\u001b[39m\u001b[39m1\u001b[39m)\n\u001b[1;32m    124\u001b[0m \u001b[39m# Sample the Bezier curve\u001b[39;00m\n",
      "File \u001b[0;32m~/Documents/lab/trajectory_optimizer.py:114\u001b[0m, in \u001b[0;36mTrajectoryOptimizer.optimize\u001b[0;34m(self, traj_cp)\u001b[0m\n\u001b[1;32m    112\u001b[0m \u001b[39m# opt_params = fmin_bfgs(self.cost, opt_params, callback=self.opt_callback, maxiter=30)\u001b[39;00m\n\u001b[1;32m    113\u001b[0m \u001b[39mprint\u001b[39m(\u001b[39mf\u001b[39m\u001b[39m\"\u001b[39m\u001b[39m🚀 Trajectory optimization: Initializing...\u001b[39m\u001b[39m\"\u001b[39m, end\u001b[39m=\u001b[39m\u001b[39m\"\u001b[39m\u001b[39m\\r\u001b[39;00m\u001b[39m\"\u001b[39m)\n\u001b[0;32m--> 114\u001b[0m opt_params \u001b[39m=\u001b[39m fmin_slsqp(\u001b[39mself\u001b[39;49m\u001b[39m.\u001b[39;49mcost, opt_params, \u001b[39miter\u001b[39;49m\u001b[39m=\u001b[39;49m\u001b[39mself\u001b[39;49m\u001b[39m.\u001b[39;49miters, callback\u001b[39m=\u001b[39;49m\u001b[39mself\u001b[39;49m\u001b[39m.\u001b[39;49mopt_callback)\n\u001b[1;32m    115\u001b[0m \u001b[39mprint\u001b[39m(\u001b[39mf\u001b[39m\u001b[39m\"\u001b[39m\u001b[39m✅ Trajectory optimization: Done! Final cost: \u001b[39m\u001b[39m{\u001b[39;00m\u001b[39mself\u001b[39m\u001b[39m.\u001b[39mcost(opt_params)\u001b[39m}\u001b[39;00m\u001b[39m          \u001b[39m\u001b[39m\"\u001b[39m)\n\u001b[1;32m    116\u001b[0m opt_traj \u001b[39m=\u001b[39m \u001b[39mself\u001b[39m\u001b[39m.\u001b[39mopt_params_to_trajectory(opt_params)\n",
      "File \u001b[0;32m/opt/homebrew/Caskroom/miniforge/base/envs/aro-tut/lib/python3.10/site-packages/scipy/optimize/_slsqp_py.py:206\u001b[0m, in \u001b[0;36mfmin_slsqp\u001b[0;34m(func, x0, eqcons, f_eqcons, ieqcons, f_ieqcons, bounds, fprime, fprime_eqcons, fprime_ieqcons, args, iter, acc, iprint, disp, full_output, epsilon, callback)\u001b[0m\n\u001b[1;32m    202\u001b[0m \u001b[39mif\u001b[39;00m f_ieqcons:\n\u001b[1;32m    203\u001b[0m     cons \u001b[39m+\u001b[39m\u001b[39m=\u001b[39m ({\u001b[39m'\u001b[39m\u001b[39mtype\u001b[39m\u001b[39m'\u001b[39m: \u001b[39m'\u001b[39m\u001b[39mineq\u001b[39m\u001b[39m'\u001b[39m, \u001b[39m'\u001b[39m\u001b[39mfun\u001b[39m\u001b[39m'\u001b[39m: f_ieqcons, \u001b[39m'\u001b[39m\u001b[39mjac\u001b[39m\u001b[39m'\u001b[39m: fprime_ieqcons,\n\u001b[1;32m    204\u001b[0m               \u001b[39m'\u001b[39m\u001b[39margs\u001b[39m\u001b[39m'\u001b[39m: args}, )\n\u001b[0;32m--> 206\u001b[0m res \u001b[39m=\u001b[39m _minimize_slsqp(func, x0, args, jac\u001b[39m=\u001b[39;49mfprime, bounds\u001b[39m=\u001b[39;49mbounds,\n\u001b[1;32m    207\u001b[0m                       constraints\u001b[39m=\u001b[39;49mcons, \u001b[39m*\u001b[39;49m\u001b[39m*\u001b[39;49mopts)\n\u001b[1;32m    208\u001b[0m \u001b[39mif\u001b[39;00m full_output:\n\u001b[1;32m    209\u001b[0m     \u001b[39mreturn\u001b[39;00m res[\u001b[39m'\u001b[39m\u001b[39mx\u001b[39m\u001b[39m'\u001b[39m], res[\u001b[39m'\u001b[39m\u001b[39mfun\u001b[39m\u001b[39m'\u001b[39m], res[\u001b[39m'\u001b[39m\u001b[39mnit\u001b[39m\u001b[39m'\u001b[39m], res[\u001b[39m'\u001b[39m\u001b[39mstatus\u001b[39m\u001b[39m'\u001b[39m], res[\u001b[39m'\u001b[39m\u001b[39mmessage\u001b[39m\u001b[39m'\u001b[39m]\n",
      "File \u001b[0;32m/opt/homebrew/Caskroom/miniforge/base/envs/aro-tut/lib/python3.10/site-packages/scipy/optimize/_slsqp_py.py:432\u001b[0m, in \u001b[0;36m_minimize_slsqp\u001b[0;34m(func, x0, args, jac, bounds, constraints, maxiter, ftol, iprint, disp, eps, callback, finite_diff_rel_step, **unknown_options)\u001b[0m\n\u001b[1;32m    429\u001b[0m     c \u001b[39m=\u001b[39m _eval_constraint(x, cons)\n\u001b[1;32m    431\u001b[0m \u001b[39mif\u001b[39;00m mode \u001b[39m==\u001b[39m \u001b[39m-\u001b[39m\u001b[39m1\u001b[39m:  \u001b[39m# gradient evaluation required\u001b[39;00m\n\u001b[0;32m--> 432\u001b[0m     g \u001b[39m=\u001b[39m append(wrapped_grad(x), \u001b[39m0.0\u001b[39m)\n\u001b[1;32m    433\u001b[0m     a \u001b[39m=\u001b[39m _eval_con_normals(x, cons, la, n, m, meq, mieq)\n\u001b[1;32m    435\u001b[0m \u001b[39mif\u001b[39;00m majiter \u001b[39m>\u001b[39m majiter_prev:\n\u001b[1;32m    436\u001b[0m     \u001b[39m# call callback if major iteration has incremented\u001b[39;00m\n",
      "File \u001b[0;32m/opt/homebrew/Caskroom/miniforge/base/envs/aro-tut/lib/python3.10/site-packages/scipy/optimize/_optimize.py:346\u001b[0m, in \u001b[0;36m_clip_x_for_func.<locals>.eval\u001b[0;34m(x)\u001b[0m\n\u001b[1;32m    344\u001b[0m \u001b[39mdef\u001b[39;00m \u001b[39meval\u001b[39m(x):\n\u001b[1;32m    345\u001b[0m     x \u001b[39m=\u001b[39m _check_clip_x(x, bounds)\n\u001b[0;32m--> 346\u001b[0m     \u001b[39mreturn\u001b[39;00m func(x)\n",
      "File \u001b[0;32m/opt/homebrew/Caskroom/miniforge/base/envs/aro-tut/lib/python3.10/site-packages/scipy/optimize/_differentiable_functions.py:273\u001b[0m, in \u001b[0;36mScalarFunction.grad\u001b[0;34m(self, x)\u001b[0m\n\u001b[1;32m    271\u001b[0m \u001b[39mif\u001b[39;00m \u001b[39mnot\u001b[39;00m np\u001b[39m.\u001b[39marray_equal(x, \u001b[39mself\u001b[39m\u001b[39m.\u001b[39mx):\n\u001b[1;32m    272\u001b[0m     \u001b[39mself\u001b[39m\u001b[39m.\u001b[39m_update_x_impl(x)\n\u001b[0;32m--> 273\u001b[0m \u001b[39mself\u001b[39;49m\u001b[39m.\u001b[39;49m_update_grad()\n\u001b[1;32m    274\u001b[0m \u001b[39mreturn\u001b[39;00m \u001b[39mself\u001b[39m\u001b[39m.\u001b[39mg\n",
      "File \u001b[0;32m/opt/homebrew/Caskroom/miniforge/base/envs/aro-tut/lib/python3.10/site-packages/scipy/optimize/_differentiable_functions.py:256\u001b[0m, in \u001b[0;36mScalarFunction._update_grad\u001b[0;34m(self)\u001b[0m\n\u001b[1;32m    254\u001b[0m \u001b[39mdef\u001b[39;00m \u001b[39m_update_grad\u001b[39m(\u001b[39mself\u001b[39m):\n\u001b[1;32m    255\u001b[0m     \u001b[39mif\u001b[39;00m \u001b[39mnot\u001b[39;00m \u001b[39mself\u001b[39m\u001b[39m.\u001b[39mg_updated:\n\u001b[0;32m--> 256\u001b[0m         \u001b[39mself\u001b[39;49m\u001b[39m.\u001b[39;49m_update_grad_impl()\n\u001b[1;32m    257\u001b[0m         \u001b[39mself\u001b[39m\u001b[39m.\u001b[39mg_updated \u001b[39m=\u001b[39m \u001b[39mTrue\u001b[39;00m\n",
      "File \u001b[0;32m/opt/homebrew/Caskroom/miniforge/base/envs/aro-tut/lib/python3.10/site-packages/scipy/optimize/_differentiable_functions.py:173\u001b[0m, in \u001b[0;36mScalarFunction.__init__.<locals>.update_grad\u001b[0;34m()\u001b[0m\n\u001b[1;32m    171\u001b[0m \u001b[39mself\u001b[39m\u001b[39m.\u001b[39m_update_fun()\n\u001b[1;32m    172\u001b[0m \u001b[39mself\u001b[39m\u001b[39m.\u001b[39mngev \u001b[39m+\u001b[39m\u001b[39m=\u001b[39m \u001b[39m1\u001b[39m\n\u001b[0;32m--> 173\u001b[0m \u001b[39mself\u001b[39m\u001b[39m.\u001b[39mg \u001b[39m=\u001b[39m approx_derivative(fun_wrapped, \u001b[39mself\u001b[39;49m\u001b[39m.\u001b[39;49mx, f0\u001b[39m=\u001b[39;49m\u001b[39mself\u001b[39;49m\u001b[39m.\u001b[39;49mf,\n\u001b[1;32m    174\u001b[0m                            \u001b[39m*\u001b[39;49m\u001b[39m*\u001b[39;49mfinite_diff_options)\n",
      "File \u001b[0;32m/opt/homebrew/Caskroom/miniforge/base/envs/aro-tut/lib/python3.10/site-packages/scipy/optimize/_numdiff.py:505\u001b[0m, in \u001b[0;36mapprox_derivative\u001b[0;34m(fun, x0, method, rel_step, abs_step, f0, bounds, sparsity, as_linear_operator, args, kwargs)\u001b[0m\n\u001b[1;32m    502\u001b[0m     use_one_sided \u001b[39m=\u001b[39m \u001b[39mFalse\u001b[39;00m\n\u001b[1;32m    504\u001b[0m \u001b[39mif\u001b[39;00m sparsity \u001b[39mis\u001b[39;00m \u001b[39mNone\u001b[39;00m:\n\u001b[0;32m--> 505\u001b[0m     \u001b[39mreturn\u001b[39;00m _dense_difference(fun_wrapped, x0, f0, h,\n\u001b[1;32m    506\u001b[0m                              use_one_sided, method)\n\u001b[1;32m    507\u001b[0m \u001b[39melse\u001b[39;00m:\n\u001b[1;32m    508\u001b[0m     \u001b[39mif\u001b[39;00m \u001b[39mnot\u001b[39;00m issparse(sparsity) \u001b[39mand\u001b[39;00m \u001b[39mlen\u001b[39m(sparsity) \u001b[39m==\u001b[39m \u001b[39m2\u001b[39m:\n",
      "File \u001b[0;32m/opt/homebrew/Caskroom/miniforge/base/envs/aro-tut/lib/python3.10/site-packages/scipy/optimize/_numdiff.py:576\u001b[0m, in \u001b[0;36m_dense_difference\u001b[0;34m(fun, x0, f0, h, use_one_sided, method)\u001b[0m\n\u001b[1;32m    574\u001b[0m     x \u001b[39m=\u001b[39m x0 \u001b[39m+\u001b[39m h_vecs[i]\n\u001b[1;32m    575\u001b[0m     dx \u001b[39m=\u001b[39m x[i] \u001b[39m-\u001b[39m x0[i]  \u001b[39m# Recompute dx as exactly representable number.\u001b[39;00m\n\u001b[0;32m--> 576\u001b[0m     df \u001b[39m=\u001b[39m fun(x) \u001b[39m-\u001b[39m f0\n\u001b[1;32m    577\u001b[0m \u001b[39melif\u001b[39;00m method \u001b[39m==\u001b[39m \u001b[39m'\u001b[39m\u001b[39m3-point\u001b[39m\u001b[39m'\u001b[39m \u001b[39mand\u001b[39;00m use_one_sided[i]:\n\u001b[1;32m    578\u001b[0m     x1 \u001b[39m=\u001b[39m x0 \u001b[39m+\u001b[39m h_vecs[i]\n",
      "File \u001b[0;32m/opt/homebrew/Caskroom/miniforge/base/envs/aro-tut/lib/python3.10/site-packages/scipy/optimize/_numdiff.py:456\u001b[0m, in \u001b[0;36mapprox_derivative.<locals>.fun_wrapped\u001b[0;34m(x)\u001b[0m\n\u001b[1;32m    455\u001b[0m \u001b[39mdef\u001b[39;00m \u001b[39mfun_wrapped\u001b[39m(x):\n\u001b[0;32m--> 456\u001b[0m     f \u001b[39m=\u001b[39m np\u001b[39m.\u001b[39matleast_1d(fun(x, \u001b[39m*\u001b[39;49margs, \u001b[39m*\u001b[39;49m\u001b[39m*\u001b[39;49mkwargs))\n\u001b[1;32m    457\u001b[0m     \u001b[39mif\u001b[39;00m f\u001b[39m.\u001b[39mndim \u001b[39m>\u001b[39m \u001b[39m1\u001b[39m:\n\u001b[1;32m    458\u001b[0m         \u001b[39mraise\u001b[39;00m \u001b[39mRuntimeError\u001b[39;00m(\u001b[39m\"\u001b[39m\u001b[39m`fun` return value has \u001b[39m\u001b[39m\"\u001b[39m\n\u001b[1;32m    459\u001b[0m                            \u001b[39m\"\u001b[39m\u001b[39mmore than 1 dimension.\u001b[39m\u001b[39m\"\u001b[39m)\n",
      "File \u001b[0;32m/opt/homebrew/Caskroom/miniforge/base/envs/aro-tut/lib/python3.10/site-packages/scipy/optimize/_differentiable_functions.py:137\u001b[0m, in \u001b[0;36mScalarFunction.__init__.<locals>.fun_wrapped\u001b[0;34m(x)\u001b[0m\n\u001b[1;32m    133\u001b[0m \u001b[39mself\u001b[39m\u001b[39m.\u001b[39mnfev \u001b[39m+\u001b[39m\u001b[39m=\u001b[39m \u001b[39m1\u001b[39m\n\u001b[1;32m    134\u001b[0m \u001b[39m# Send a copy because the user may overwrite it.\u001b[39;00m\n\u001b[1;32m    135\u001b[0m \u001b[39m# Overwriting results in undefined behaviour because\u001b[39;00m\n\u001b[1;32m    136\u001b[0m \u001b[39m# fun(self.x) will change self.x, with the two no longer linked.\u001b[39;00m\n\u001b[0;32m--> 137\u001b[0m fx \u001b[39m=\u001b[39m fun(np\u001b[39m.\u001b[39;49mcopy(x), \u001b[39m*\u001b[39;49margs)\n\u001b[1;32m    138\u001b[0m \u001b[39m# Make sure the function returns a true scalar\u001b[39;00m\n\u001b[1;32m    139\u001b[0m \u001b[39mif\u001b[39;00m \u001b[39mnot\u001b[39;00m np\u001b[39m.\u001b[39misscalar(fx):\n",
      "File \u001b[0;32m~/Documents/lab/trajectory_optimizer.py:48\u001b[0m, in \u001b[0;36mTrajectoryOptimizer.cost\u001b[0;34m(self, opt_params)\u001b[0m\n\u001b[1;32m     46\u001b[0m sample_cost \u001b[39m+\u001b[39m\u001b[39m=\u001b[39m \u001b[39mself\u001b[39m\u001b[39m.\u001b[39millegal_grip_penalty(q) \u001b[39m*\u001b[39m\u001b[39m*\u001b[39m \u001b[39m2\u001b[39m \u001b[39m*\u001b[39m \u001b[39m150\u001b[39m\n\u001b[1;32m     47\u001b[0m \u001b[39m# Obstacle cost\u001b[39;00m\n\u001b[0;32m---> 48\u001b[0m sample_cost \u001b[39m+\u001b[39m\u001b[39m=\u001b[39m \u001b[39mself\u001b[39m\u001b[39m.\u001b[39mobstacle_distance_penalty(q) \u001b[39m*\u001b[39m \u001b[39m70\u001b[39m\n\u001b[1;32m     49\u001b[0m \u001b[39m# Joint limits cost\u001b[39;00m\n\u001b[1;32m     50\u001b[0m sample_cost \u001b[39m+\u001b[39m\u001b[39m=\u001b[39m jointlimitscost(\u001b[39mself\u001b[39m\u001b[39m.\u001b[39mrobot, q) \u001b[39m*\u001b[39m \u001b[39m1000\u001b[39m\n",
      "File \u001b[0;32m~/Documents/lab/trajectory_optimizer.py:62\u001b[0m, in \u001b[0;36mTrajectoryOptimizer.obstacle_distance_penalty\u001b[0;34m(self, q, dist_offset, self_collision_dist_offset)\u001b[0m\n\u001b[1;32m     59\u001b[0m \u001b[39mdef\u001b[39;00m \u001b[39mobstacle_distance_penalty\u001b[39m(\u001b[39mself\u001b[39m, q, dist_offset\u001b[39m=\u001b[39m\u001b[39m0.2\u001b[39m, self_collision_dist_offset\u001b[39m=\u001b[39m\u001b[39m0.2\u001b[39m\n\u001b[1;32m     60\u001b[0m                               ):\n\u001b[1;32m     61\u001b[0m     raw_distance \u001b[39m=\u001b[39m distanceToObstacle(\u001b[39mself\u001b[39m\u001b[39m.\u001b[39mrobot, q, computeFrameForwardKinematics\u001b[39m=\u001b[39m\u001b[39mFalse\u001b[39;00m)\n\u001b[0;32m---> 62\u001b[0m     raw_self_collision_distance \u001b[39m=\u001b[39m selfCollisionDistance(\u001b[39mself\u001b[39;49m\u001b[39m.\u001b[39;49mrobot, q, computeFrameForwardKinematics\u001b[39m=\u001b[39;49m\u001b[39mFalse\u001b[39;49;00m, computeGeometryPlacements\u001b[39m=\u001b[39;49m\u001b[39mFalse\u001b[39;49;00m)\n\u001b[1;32m     63\u001b[0m     \u001b[39mreturn\u001b[39;00m \u001b[39mmax\u001b[39m(\u001b[39m-\u001b[39mraw_distance \u001b[39m+\u001b[39m dist_offset, \u001b[39m-\u001b[39mraw_self_collision_distance \u001b[39m+\u001b[39m self_collision_dist_offset, \u001b[39m0\u001b[39m)\n",
      "File \u001b[0;32m~/Documents/lab/inverse_geometry_utils.py:70\u001b[0m, in \u001b[0;36mselfCollisionDistance\u001b[0;34m(robot, q, computeFrameForwardKinematics, computeGeometryPlacements)\u001b[0m\n\u001b[1;32m     68\u001b[0m geomidobs \u001b[39m=\u001b[39m robot\u001b[39m.\u001b[39mcollision_model\u001b[39m.\u001b[39mgetGeometryId(\u001b[39m'\u001b[39m\u001b[39mobstaclebase_0\u001b[39m\u001b[39m'\u001b[39m)\n\u001b[1;32m     69\u001b[0m geomidtable \u001b[39m=\u001b[39m robot\u001b[39m.\u001b[39mcollision_model\u001b[39m.\u001b[39mgetGeometryId(\u001b[39m'\u001b[39m\u001b[39mbaseLink_0\u001b[39m\u001b[39m'\u001b[39m)\n\u001b[0;32m---> 70\u001b[0m pairs \u001b[39m=\u001b[39m [i \u001b[39mfor\u001b[39;00m i, pair \u001b[39min\u001b[39;00m \u001b[39menumerate\u001b[39m(robot\u001b[39m.\u001b[39mcollision_model\u001b[39m.\u001b[39mcollisionPairs) \u001b[39mif\u001b[39;00m \u001b[39mnot\u001b[39;00m (pair\u001b[39m.\u001b[39msecond \u001b[39m==\u001b[39m geomidobs \u001b[39mor\u001b[39;00m pair\u001b[39m.\u001b[39msecond \u001b[39m==\u001b[39m geomidtable)]\n\u001b[1;32m     71\u001b[0m \u001b[39m# print([(robot.collision_model.geometryObjects[pair.first].name, robot.collision_model.geometryObjects[pair.second].name) for pair in robot.collision_model.collisionPairs])\u001b[39;00m\n\u001b[1;32m     72\u001b[0m \u001b[39mif\u001b[39;00m computeFrameForwardKinematics:\n",
      "File \u001b[0;32m~/Documents/lab/inverse_geometry_utils.py:70\u001b[0m, in \u001b[0;36m<listcomp>\u001b[0;34m(.0)\u001b[0m\n\u001b[1;32m     68\u001b[0m geomidobs \u001b[39m=\u001b[39m robot\u001b[39m.\u001b[39mcollision_model\u001b[39m.\u001b[39mgetGeometryId(\u001b[39m'\u001b[39m\u001b[39mobstaclebase_0\u001b[39m\u001b[39m'\u001b[39m)\n\u001b[1;32m     69\u001b[0m geomidtable \u001b[39m=\u001b[39m robot\u001b[39m.\u001b[39mcollision_model\u001b[39m.\u001b[39mgetGeometryId(\u001b[39m'\u001b[39m\u001b[39mbaseLink_0\u001b[39m\u001b[39m'\u001b[39m)\n\u001b[0;32m---> 70\u001b[0m pairs \u001b[39m=\u001b[39m [i \u001b[39mfor\u001b[39;00m i, pair \u001b[39min\u001b[39;00m \u001b[39menumerate\u001b[39m(robot\u001b[39m.\u001b[39mcollision_model\u001b[39m.\u001b[39mcollisionPairs) \u001b[39mif\u001b[39;00m \u001b[39mnot\u001b[39;00m (pair\u001b[39m.\u001b[39msecond \u001b[39m==\u001b[39m geomidobs \u001b[39mor\u001b[39;00m pair\u001b[39m.\u001b[39msecond \u001b[39m==\u001b[39m geomidtable)]\n\u001b[1;32m     71\u001b[0m \u001b[39m# print([(robot.collision_model.geometryObjects[pair.first].name, robot.collision_model.geometryObjects[pair.second].name) for pair in robot.collision_model.collisionPairs])\u001b[39;00m\n\u001b[1;32m     72\u001b[0m \u001b[39mif\u001b[39;00m computeFrameForwardKinematics:\n",
      "\u001b[0;31mKeyboardInterrupt\u001b[0m: "
     ]
    }
   ],
   "source": [
    "comparison = create_path_comparison(robot, cube, viz)"
   ]
  },
  {
   "cell_type": "code",
   "execution_count": null,
   "metadata": {},
   "outputs": [],
   "source": [
    "plt.plot(normalize(comparison[\"linear\"][\"cube_distance\"][2:]), comparison[\"linear\"][\"joint_acceleration\"][1:], label=\"linear\", color=\"red\")\n",
    "plt.plot(normalize(comparison[\"naive_bezier_downsampled\"][\"cube_distance\"][2:]), comparison[\"naive_bezier_downsampled\"][\"joint_acceleration\"][1:], label=\"naive_bezier_downsampled\", color=\"green\")\n",
    "plt.plot(normalize(comparison[\"optimized_bezier\"][\"cube_distance\"][2:]), comparison[\"optimized_bezier\"][\"joint_acceleration\"][1:], label=\"optimized_bezier\", color=\"blue\")\n",
    "\n",
    "plt.show()"
   ]
  },
  {
   "cell_type": "code",
   "execution_count": null,
   "metadata": {},
   "outputs": [],
   "source": [
    "plt.plot(normalize(comparison[\"linear\"][\"cube_distance\"]), comparison[\"linear\"][\"obstacle_distances\"][1:], label=\"linear\", color=\"red\")\n",
    "plt.plot(normalize(comparison[\"naive_bezier_downsampled\"][\"cube_distance\"]), comparison[\"naive_bezier_downsampled\"][\"obstacle_distances\"][1:], label=\"naive_bezier_downsampled\", color=\"green\")\n",
    "plt.plot(normalize(comparison[\"optimized_bezier\"][\"cube_distance\"]), comparison[\"optimized_bezier\"][\"obstacle_distances\"][1:], label=\"optimized_bezier\", color=\"blue\")"
   ]
  },
  {
   "cell_type": "code",
   "execution_count": null,
   "metadata": {},
   "outputs": [],
   "source": [
    "plt.plot(normalize(comparison[\"linear\"][\"cube_distance\"]), comparison[\"linear\"][\"cube_grasping_residual\"][1:], label=\"linear\", color=\"red\")\n",
    "plt.plot(normalize(comparison[\"naive_bezier_downsampled\"][\"cube_distance\"]), comparison[\"naive_bezier_downsampled\"][\"cube_grasping_residual\"][1:], label=\"naive_bezier_downsampled\", color=\"green\")\n",
    "plt.plot(normalize(comparison[\"optimized_bezier\"][\"cube_distance\"]), comparison[\"optimized_bezier\"][\"cube_grasping_residual\"][1:], label=\"optimized_bezier\", color=\"blue\")"
   ]
  },
  {
   "cell_type": "code",
   "execution_count": null,
   "metadata": {},
   "outputs": [],
   "source": []
  }
 ],
 "metadata": {
  "kernelspec": {
   "display_name": "aro-tut",
   "language": "python",
   "name": "python3"
  },
  "language_info": {
   "codemirror_mode": {
    "name": "ipython",
    "version": 3
   },
   "file_extension": ".py",
   "mimetype": "text/x-python",
   "name": "python",
   "nbconvert_exporter": "python",
   "pygments_lexer": "ipython3",
   "version": "3.10.13"
  }
 },
 "nbformat": 4,
 "nbformat_minor": 2
}
