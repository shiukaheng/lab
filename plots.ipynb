{
 "cells": [
  {
   "cell_type": "code",
   "execution_count": null,
   "metadata": {},
   "outputs": [],
   "source": [
    "import inverse_geometry\n",
    "import inverse_geometry_test\n",
    "from function_profiler import FunctionProfiler\n",
    "from tools import setupwithmeshcat"
   ]
  },
  {
   "cell_type": "code",
   "execution_count": null,
   "metadata": {},
   "outputs": [],
   "source": [
    "profiler = FunctionProfiler()"
   ]
  },
  {
   "cell_type": "code",
   "execution_count": null,
   "metadata": {},
   "outputs": [],
   "source": [
    "@profiler.profile(\"inverse_geometry\")\n",
    "def computeqgrasppose(robot, qcurrent, cube, cubetarget, viz=None):\n",
    "    return inverse_geometry.computeqgrasppose(robot, qcurrent, cube, cubetarget, viz)"
   ]
  },
  {
   "cell_type": "code",
   "execution_count": null,
   "metadata": {},
   "outputs": [],
   "source": [
    "robot, cube, viz = setupwithmeshcat()\n",
    "inverse_geometry_test.random_tests(robot, cube, viz, interactive=True, iters=500, computeqgrasppose=computeqgrasppose)"
   ]
  },
  {
   "cell_type": "code",
   "execution_count": null,
   "metadata": {},
   "outputs": [],
   "source": [
    "profiler.plot(\"inverse_geometry\")"
   ]
  }
 ],
 "metadata": {
  "kernelspec": {
   "display_name": "aro-tut",
   "language": "python",
   "name": "python3"
  },
  "language_info": {
   "codemirror_mode": {
    "name": "ipython",
    "version": 3
   },
   "file_extension": ".py",
   "mimetype": "text/x-python",
   "name": "python",
   "nbconvert_exporter": "python",
   "pygments_lexer": "ipython3",
   "version": "3.10.12"
  }
 },
 "nbformat": 4,
 "nbformat_minor": 2
}
