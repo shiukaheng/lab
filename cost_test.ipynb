{
 "cells": [
  {
   "cell_type": "code",
   "execution_count": 1,
   "metadata": {},
   "outputs": [],
   "source": [
    "import numpy as np"
   ]
  },
  {
   "cell_type": "code",
   "execution_count": 36,
   "metadata": {},
   "outputs": [],
   "source": [
    "test = np.array([\n",
    "    [0, 0],\n",
    "    [1, 1],\n",
    "    [2, 2]\n",
    "    # [2, 2],\n",
    "    # [3, 3],\n",
    "    # [2, 2],\n",
    "    # [3, 3],\n",
    "])"
   ]
  },
  {
   "cell_type": "code",
   "execution_count": 37,
   "metadata": {},
   "outputs": [
    {
     "data": {
      "text/plain": [
       "1.232595164407831e-32"
      ]
     },
     "execution_count": 37,
     "metadata": {},
     "output_type": "execute_result"
    }
   ],
   "source": [
    "def local_pose_direction_change(pose_path):\n",
    "    if len(pose_path) < 3:\n",
    "        return 0\n",
    "    change = np.diff(pose_path, axis=0)\n",
    "    unit_vectors_of_change = change / np.linalg.norm(change, axis=1)[:, None]\n",
    "    dot_products = np.sum(unit_vectors_of_change[1:] * unit_vectors_of_change[:-1], axis=1)\n",
    "    costs = (dot_products - 1) / -2\n",
    "    return np.mean(costs ** 2)\n",
    "\n",
    "local_pose_direction_change(test)"
   ]
  },
  {
   "cell_type": "code",
   "execution_count": null,
   "metadata": {},
   "outputs": [],
   "source": []
  }
 ],
 "metadata": {
  "kernelspec": {
   "display_name": "aro-tut",
   "language": "python",
   "name": "python3"
  },
  "language_info": {
   "codemirror_mode": {
    "name": "ipython",
    "version": 3
   },
   "file_extension": ".py",
   "mimetype": "text/x-python",
   "name": "python",
   "nbconvert_exporter": "python",
   "pygments_lexer": "ipython3",
   "version": "3.10.12"
  }
 },
 "nbformat": 4,
 "nbformat_minor": 2
}
